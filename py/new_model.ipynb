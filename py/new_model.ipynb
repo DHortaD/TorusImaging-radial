{
 "cells": [
  {
   "cell_type": "code",
   "execution_count": 1,
   "id": "d1d9e456-e9b1-4fd2-b1d0-91036f0e8187",
   "metadata": {},
   "outputs": [],
   "source": [
    "from collections.abc import Callable\n",
    "from functools import partial\n",
    "from typing import Any, Literal, NewType\n",
    "from warnings import warn\n",
    "\n",
    "import astropy.table as at\n",
    "import astropy.units as u\n",
    "import jax\n",
    "import jax.numpy as jnp\n",
    "import numpy as np\n",
    "import jax.typing as jtp\n",
    "import jaxopt\n",
    "import numpy.typing as npt\n",
    "from gala.units import UnitSystem, galactic\n",
    "from jax.scipy.special import gammaln\n",
    "from jaxopt import Bisection\n",
    "from jaxopt.base import OptStep\n",
    "from typing_extensions import TypedDict\n",
    "\n",
    "import inspect\n",
    "from scipy.stats import binned_statistic\n",
    "from torusimaging import data\n",
    "from torusimaging.model_helpers import monotonic_quadratic_spline\n",
    "\n",
    "from astropy.stats import median_absolute_deviation as MAD\n",
    "from gala.units import UnitSystem\n",
    "from scipy.stats import binned_statistic_2d\n",
    "from matplotlib import rc\n",
    "rc('font',**{'family':'serif','serif':['Times']})\n",
    "rc('text', usetex=True)\n",
    "import warnings\n",
    "warnings.filterwarnings('ignore')\n",
    "\n",
    "import pathlib\n",
    "import astropy.coordinates as coord\n",
    "import astropy.table as at\n",
    "import astropy.units as u\n",
    "import gala.dynamics as gd\n",
    "import gala.potential as gp\n",
    "import jax\n",
    "import matplotlib as mpl\n",
    "import matplotlib.pyplot as plt\n",
    "import numpy as np\n",
    "import torusimaging as oti\n",
    "from astropy.constants import G\n",
    "from gala.units import galactic\n",
    "from pyia import GaiaData\n",
    "from astropy.io import fits \n",
    "import tqdm\n",
    "import cmasher as cm\n",
    "import os\n",
    "import model_radial\n",
    "\n",
    "from torusimaging.jax_helpers import simpson\n",
    "jax.config.update(\"jax_enable_x64\", True)"
   ]
  },
  {
   "cell_type": "code",
   "execution_count": 2,
   "id": "60cc1efc-8287-4ebe-abd9-377d9499a3ed",
   "metadata": {},
   "outputs": [
    {
     "name": "stdout",
     "output_type": "stream",
     "text": [
      "77740\n"
     ]
    }
   ],
   "source": [
    "# LOAD THE DATA\n",
    "path = '/Users/dhortad/Documents/Data/allstar-dr17-StarHorse-Gaiadr3-astroNNages'\n",
    "tb = fits.open(path)\n",
    "data = tb[1].data \n",
    "\n",
    "# wmask = np.load('/Users/dhortad/Projects/Torusimaging-radial/sav/parent-mask-all.npy',allow_pickle=True)\n",
    "\n",
    "wmask = jnp.load('/Users/dhortad/Projects/Torusimaging-radial/sav/parent-last.npy',allow_pickle=True)\n",
    "\n",
    "print(len(data[wmask]))"
   ]
  },
  {
   "cell_type": "code",
   "execution_count": 135,
   "id": "df1b92d3-d1dd-49f3-9023-fd095286201b",
   "metadata": {},
   "outputs": [],
   "source": [
    "import astropy.units as u\n",
    "x = data['xyz'][:,0]\n",
    "y = data['xyz'][:,1]\n",
    "z = data['xyz'][:,2]\n",
    "vx = data['vxyz'][:,0]\n",
    "vy = data['vxyz'][:,1]\n",
    "vz = data['vxyz'][:,2]\n",
    "vz = (vz*u.km/u.s)\n",
    "vz = vz.to(u.kpc/u.Gyr)\n",
    "x = x*u.kpc\n",
    "y = y*u.kpc\n",
    "z = z*u.kpc\n",
    "\n",
    "# Eilers rotation curve\n",
    "Rgal = np.sqrt(data['xyz'][:,0]**2+data['xyz'][:,1]**2)\n",
    "vcirc = 229.-1.7*(Rgal-8.275)\n",
    "Rg = -(data['L'][:,2]/vcirc)\n",
    "deltaR = Rgal-Rg\n",
    "phi_deg = jnp.arctan(data['xyz'][:,1]/data['xyz'][:,0]) *(180./np.pi)\n",
    "phi = jnp.arctan(data['xyz'][:,1]/data['xyz'][:,0])\n",
    "\n",
    "#transform to cylindrical velocities\n",
    "vR = +data['vxyz'][:,0]*np.cos(phi)+data['vxyz'][:,1]*np.sin(phi)\n",
    "vt = -data['vxyz'][:,0]*np.sin(phi)+data['vxyz'][:,1]*np.cos(phi)"
   ]
  },
  {
   "cell_type": "code",
   "execution_count": 136,
   "id": "4f412a35",
   "metadata": {},
   "outputs": [],
   "source": [
    "vt = vt*u.km/u.s\n",
    "vt = vt.to(u.kpc/u.Myr)\n",
    "\n",
    "vR = vR*u.km/u.s\n",
    "vR = vR.to(u.kpc/u.Myr)\n",
    "\n",
    "vcirc = 229*u.km/u.s\n",
    "vcirc = vcirc.to(u.kpc/u.Myr)"
   ]
  },
  {
   "cell_type": "code",
   "execution_count": 137,
   "id": "c97bd782",
   "metadata": {},
   "outputs": [],
   "source": [
    "vR = vR.value\n",
    "vt = vt.value\n",
    "vcirc = vcirc.value"
   ]
  },
  {
   "cell_type": "code",
   "execution_count": 138,
   "id": "28396143",
   "metadata": {},
   "outputs": [],
   "source": [
    "params = {\n",
    "    'vcirc_delta': jnp.array([0.0]),\n",
    "    'vR0': jnp.array([0.0]),\n",
    "    'param_lnOmega0': jnp.array([-3.5]),\n",
    "    'fourier_coeffs': {\n",
    "        2: jnp.array([0.05]),\n",
    "        4: jnp.array([0.05])\n",
    "    }\n",
    "}\n",
    "dat = {'R': jnp.array(Rgal[wmask]), 'vphi': jnp.array(vt[wmask]), 'vR': jnp.array(vR[wmask]), 'label': jnp.array(data['MG_FE'][wmask]), 'vcirc_0': jnp.array(vcirc)}\n",
    "\n",
    "vcirc = dat['vcirc_0'] + params['vcirc_delta']\n",
    "pos = dat['R'] - (dat['R']*dat['vphi'])/vcirc\n",
    "vel = dat['vR']"
   ]
  },
  {
   "cell_type": "code",
   "execution_count": 141,
   "id": "739feb20-d886-4a66-889e-4bc0421449e6",
   "metadata": {},
   "outputs": [],
   "source": [
    "def jax_binned_statistic_2d(x, y, values, statistic='median', bins=[64, 64], rangos=[[-2,2], [-80,80]]):\n",
    "    \"\"\"\n",
    "    Compute a 2D binned statistic (e.g., mean, sum, count) for the data.\n",
    "    \n",
    "    Parameters:\n",
    "        x, y : array-like\n",
    "            The coordinates of the data points.\n",
    "        values : array-like\n",
    "            The values at the corresponding (x, y) coordinates.\n",
    "        statistic : str, optional\n",
    "            The statistic to compute: 'mean', 'sum', 'count', etc.\n",
    "        bins : int or array-like, optional\n",
    "            The number of bins along each axis, or bin edges.\n",
    "        range : tuple, optional\n",
    "            The lower and upper bounds of the bins.\n",
    "\n",
    "    Returns:\n",
    "        binned_statistic : array\n",
    "            The computed binned statistic.\n",
    "    \"\"\"\n",
    "\n",
    "    if statistic == 'counts':\n",
    "        counts, x_edges, y_edges = jnp.histogram2d(x, y, bins=64, range = [(-2,2), (-80,80)])\n",
    "        return counts\n",
    "    else:\n",
    "        # Assign each point to a bin\n",
    "        x_bin_idx = jnp.clip(jnp.digitize(pos, jnp.linspace(rangos[0][0], rangos[0][1], bins[0] + 1), right=True) - 1, 0, bins[0] - 1)\n",
    "        y_bin_idx = jnp.clip(jnp.digitize(vel, jnp.linspace(rangos[1][0], rangos[1][1], bins[1] + 1), right=True) - 1, 0, bins[1] - 1)\n",
    "\n",
    "        i_vals = jnp.arange(bins[0]) \n",
    "        j_vals = jnp.arange(bins[1]) \n",
    "        val = jnp.zeros((bins[0], bins[1]), dtype=float)\n",
    "\n",
    "        if statistic == 'median':\n",
    "            for idx, i in enumerate(i_vals):\n",
    "                for jdx, j in enumerate(j_vals):\n",
    "                    in_bin = (x_bin_idx == i) & (y_bin_idx == j)\n",
    "                    selected = jnp.where(in_bin, values, jnp.nan)\n",
    "                    if len(selected) > 0:\n",
    "                        val = val.at[idx,jdx].set(jnp.nanmedian(selected))\n",
    "                    else:\n",
    "                        val = val.at[idx,jdx].set(jnp.nan)\n",
    "            return val\n",
    "        elif statistic == 'mean':\n",
    "            for idx, i in enumerate(i_vals):\n",
    "                for jdx, j in enumerate(j_vals):\n",
    "                    in_bin = (x_bin_idx == i) & (y_bin_idx == j)\n",
    "                    selected = jnp.where(in_bin, values, jnp.nan)\n",
    "                    if len(selected) > 0:\n",
    "                        val = val.at[idx,jdx].set(jnp.nanmean(selected))\n",
    "                    else:\n",
    "                        val = val.at[idx,jdx].set(jnp.nan)\n",
    "            return val\n",
    "        elif statistic == 'MAD':\n",
    "            for idx, i in enumerate(i_vals):\n",
    "                for jdx, j in enumerate(j_vals):\n",
    "                    in_bin = (x_bin_idx == i) & (y_bin_idx == j)\n",
    "                    selected = jnp.where(in_bin, values, jnp.nan)\n",
    "                    if len(selected) > 0:\n",
    "                        val = val.at[idx,jdx].set(jnp.nanmedian(jnp.abs(selected - jnp.nanmean(selected))))\n",
    "                    else:\n",
    "                        val = val.at[idx,jdx].set(jnp.nan)\n",
    "            return val\n",
    "        elif statistic == 'std':\n",
    "            for idx, i in enumerate(i_vals):\n",
    "                for jdx, j in enumerate(j_vals):\n",
    "                    in_bin = (x_bin_idx == i) & (y_bin_idx == j)\n",
    "                    selected = jnp.where(in_bin, values, jnp.nan)\n",
    "                    if len(selected) > 0:\n",
    "                        val = val.at[idx,jdx].set(jnp.nanstd(selected))\n",
    "                    else:\n",
    "                        val = val.at[idx,jdx].set(jnp.nan)\n",
    "            return val\n",
    "\n",
    "\n",
    "def calculate_mad(values):\n",
    "    \"\"\"Calculates the Mean Absolute Deviation (MAD) of a NumPy array.\n",
    "    Args:\n",
    "        values: A NumPy array of values.\n",
    "    Returns:\n",
    "        The MAD of the input array.\n",
    "    \"\"\"\n",
    "    if len(values) == 0:\n",
    "        return jnp.nan\n",
    "    return jnp.mean(jnp.abs(values - jnp.mean(values)))\n",
    "\n",
    "def bin_data(\n",
    "            data,\n",
    "            params,\n",
    "            bins = [64,64],\n",
    "            rangos = [[-2.,2.], [-80,80]]):\n",
    "\n",
    "    \"\"\"\n",
    "    Function to bin the data into vR - (R-R_g) given kinematics and compute the label/label_err**2 value in each bin\n",
    "    \"\"\"\n",
    "\n",
    "    \n",
    "    vcirc = data['vcirc_0'] + params['vcirc_delta']\n",
    "    pos = data['R'] - (data['R']*data['vphi'])/vcirc\n",
    "    vel = data['vR']\n",
    "\n",
    "    stat_mean = jax_binned_statistic_2d(\n",
    "        pos,\n",
    "        vel,\n",
    "        data['label'],\n",
    "        bins=bins,\n",
    "        rangos = rangos,\n",
    "        statistic='mean',\n",
    "    )\n",
    "\n",
    "    stat_counts = jax_binned_statistic_2d(\n",
    "        pos,\n",
    "        vel,\n",
    "        data['label'],\n",
    "        bins=bins,\n",
    "        rangos = rangos,\n",
    "        statistic='counts'\n",
    "    )\n",
    "    stat_mad = jax_binned_statistic_2d(\n",
    "        pos,\n",
    "        vel,\n",
    "        data['label'],\n",
    "        bins=bins,\n",
    "        rangos = rangos,\n",
    "        statistic='MAD',\n",
    "    )\n",
    "    \n",
    "    err = (stat_mad * 1.5) / stat_counts\n",
    "    xedges = jnp.linspace(rangos[0][0], rangos[0][1], bins[0]+1)\n",
    "    yedges = jnp.linspace(rangos[1][0], rangos[1][1], bins[1]+1)\n",
    "    X, Y = jnp.meshgrid(xedges, yedges, indexing='ij')\n",
    "\n",
    "    return jnp.array(stat_mean), jnp.array(err), jnp.array(X), jnp.array(Y)\n",
    "    "
   ]
  },
  {
   "cell_type": "code",
   "execution_count": null,
   "id": "35bb3f92-390e-4b6e-b4dd-4e44e8eebb1e",
   "metadata": {},
   "outputs": [],
   "source": [
    "params = {\n",
    "    'vcirc_delta': jnp.array([0.0]),\n",
    "    'vR0': jnp.array([0.0]),\n",
    "    'param_lnOmega0': jnp.array([-3.5]),\n",
    "    'fourier_coeffs': {\n",
    "        2: jnp.array([0.05]),\n",
    "        4: jnp.array([0.05])\n",
    "    }\n",
    "}\n",
    "\n",
    "dat = {'R': jnp.array(Rgal[wmask]), 'vphi': jnp.array(vt[wmask]), 'vR': jnp.array(vR[wmask]), 'label': jnp.array(data['MG_FE'][wmask]), 'vcirc_0': jnp.array([229.0])}\n",
    "\n",
    "vcirc = dat['vcirc_0'] + params['vcirc_delta']\n",
    "pos = dat['R'] - (dat['R']*dat['vphi'])/vcirc\n",
    "vel = dat['vR']"
   ]
  },
  {
   "cell_type": "code",
   "execution_count": 143,
   "id": "297b11ae-8b5f-46f3-b9b9-56ea4996df6c",
   "metadata": {},
   "outputs": [],
   "source": [
    "def fit_polynomial(x, y, deg):\n",
    "    # Fit polynomial coefficients (least squares)\n",
    "    X = jnp.vander(x, deg + 1)\n",
    "    coeffs, *_ = jnp.linalg.lstsq(X, y, rcond=None)\n",
    "    return coeffs\n",
    "\n",
    "def eval_polynomial(coeffs, x):\n",
    "    return jnp.polyval(coeffs, x)\n"
   ]
  },
  {
   "cell_type": "code",
   "execution_count": 159,
   "id": "8ae77218-66be-4a2c-8ebb-706e2ca96784",
   "metadata": {},
   "outputs": [],
   "source": [
    "from scipy.interpolate import CubicSpline\n",
    "from jax import jit, vmap\n",
    "    \n",
    "def get_elliptical_coords(data, params):\n",
    "\n",
    "    mean_label, err, X, Y = bin_data(data, params)\n",
    "\n",
    "    delta_x = (X[:,0][1] - X[:,0][0])/2\n",
    "    delta_y = (Y[:,1][0] - Y[:,0][0])/2\n",
    "    X_  = (X[:-1,:-1] + delta_x)\n",
    "    Y_  = (Y[:-1,:-1] + delta_y)\n",
    "\n",
    "    pos = X_ * jnp.sqrt(jnp.exp(params['param_lnOmega0']))\n",
    "    vel = Y_ / jnp.sqrt(jnp.exp(params['param_lnOmega0']))\n",
    "\n",
    "    r_e = jnp.sqrt(pos**2 + vel**2)\n",
    "    t_e = jnp.arctan2(vel, pos)\n",
    "    \n",
    "    return jnp.array(r_e), jnp.array(t_e), jnp.array(mean_label), jnp.array(err)\n",
    "    \n",
    "def get_rz(dat, params, smoothing=True, degree=2):\n",
    "    \"\"\"\n",
    "    This function computes the distorted radius by adding Fourier distortions\n",
    "    to the elliptical radius.\n",
    "    \"\"\"\n",
    "    # Step 1: Get the elliptical coordinates (radius and angle)\n",
    "    r_e, t_e, mean_label, err = get_elliptical_coords(dat, params)\n",
    "    \n",
    "    # Step 2: Initialize distortion term\n",
    "    distortion = jnp.zeros_like(r_e)\n",
    "\n",
    "    # Step 3: Apply Fourier distortion based on provided coefficients\n",
    "    for m, e_m in params['fourier_coeffs'].items():\n",
    "        distortion += e_m * jnp.cos(m * t_e)  # Apply Fourier mode distortion\n",
    "\n",
    "    # Step 4: Compute the distorted radius\n",
    "    distorted_radius = r_e * (1 + distortion)  # Apply distortion to the radius\n",
    "\n",
    "    return jnp.array(distorted_radius)\n",
    "        \n",
    "def get_model_label(dat, params):\n",
    "\n",
    "    r_e, t_e, mean_label, err = get_elliptical_coords(dat, params)\n",
    "    \n",
    "    clean_mean = jnp.nan_to_num(mean_label, nan=0.0)\n",
    "\n",
    "    # Fit a polynomial (degree 2 or higher) to the data\n",
    "    degree = 2\n",
    "    coeffs = jnp.polyfit(r_e.ravel(), clean_mean.ravel(), degree)\n",
    "    \n",
    "    rz = get_rz(dat, params)\n",
    "\n",
    "    # Evaluate the polynomial at the desired radius values\n",
    "    rz_label = jnp.polyval(coeffs, rz)\n",
    "\n",
    "    return jnp.array(rz_label)\n",
    "\n",
    "def ln_gaussian_likelihood(params, data):\n",
    "\n",
    "    r_e, t_e, mean_label, err = get_elliptical_coords(data, params)\n",
    "    \n",
    "    rz_label = get_model_label(data, params)    \n",
    "    return -0.5 * jnp.nansum((mean_label - rz_label)**2/err**2)\n",
    "    \n",
    "def obj_gaussian(params, data):\n",
    "    f_val = ln_gaussian_likelihood(params, data)\n",
    "    return -f_val / data['label'].size\n",
    "\n",
    "def optimize(params, data):\n",
    "\n",
    "    optimiser = jaxopt.LBFGS(fun = obj_gaussian)\n",
    "    res = optimiser.run(init_params = params, data = data)\n",
    "\n",
    "    return res\n"
   ]
  },
  {
   "cell_type": "code",
   "execution_count": null,
   "id": "3e2b593d",
   "metadata": {},
   "outputs": [
    {
     "data": {
      "text/plain": [
       "(7068,)"
      ]
     },
     "execution_count": 163,
     "metadata": {},
     "output_type": "execute_result"
    }
   ],
   "source": [
    "params = {\n",
    "    'vcirc_delta': jnp.array([0.0]),\n",
    "    'vR0': jnp.array([0.0]),\n",
    "    'param_lnOmega0': jnp.array([-3.5]),\n",
    "    'fourier_coeffs': {\n",
    "        2: jnp.array([0.05]),\n",
    "        4: jnp.array([0.05])\n",
    "    }\n",
    "}\n",
    "\n",
    "mask_sun = (Rg>8)&(Rg<8.5)\n",
    "dat = {'R': jnp.array(Rgal[wmask&mask_sun]), 'vphi': jnp.array(vt[wmask&mask_sun]), 'vR': jnp.array(vR[wmask&mask_sun]), 'label': jnp.array(data['MG_FE'][wmask&mask_sun]), 'vcirc_0': jnp.array([229.0])}\n",
    "\n",
    "vcirc = dat['vcirc_0'] + params['vcirc_delta']\n",
    "pos = dat['R'] - (dat['R']*dat['vphi'])/vcirc\n",
    "vel = dat['vR']"
   ]
  },
  {
   "cell_type": "code",
   "execution_count": null,
   "id": "a037d299-f42c-4f46-8350-df81b2f71727",
   "metadata": {},
   "outputs": [],
   "source": [
    "res = optimize(params, dat)\n"
   ]
  },
  {
   "cell_type": "code",
   "execution_count": 434,
   "id": "3256756a-98f2-45d8-9a42-d84ebaf74d8c",
   "metadata": {},
   "outputs": [
    {
     "data": {
      "text/plain": [
       "Array([-2.13661542, -1.89081014, -1.64500486, -1.39919958, -1.15339431,\n",
       "       -0.90758903, -0.66178375, -0.41597847, -0.1701732 ,  0.07563208,\n",
       "        0.32143736,  0.56724264,  0.81304792,  1.05885319,  1.30465847,\n",
       "        1.55046375,  1.79626903,  2.0420743 ,  2.28787958,  2.53368486,\n",
       "        2.77949014,  3.02529541,  3.27110069,  3.51690597,  3.76271125,\n",
       "        4.00851653,  4.2543218 ,  4.50012708,  4.74593236,  4.99173764,\n",
       "        5.23754291,  5.48334819,  5.72915347,  5.97495875,  6.22076402,\n",
       "        6.4665693 ,  6.71237458,  6.95817986,  7.20398513,  7.44979041,\n",
       "        7.69559569,  7.94140097,  8.18720625,  8.43301152,  8.6788168 ,\n",
       "        8.92462208,  9.17042736,  9.41623263,  9.66203791,  9.90784319,\n",
       "       10.15364847, 10.39945374, 10.64525902, 10.8910643 , 11.13686958,\n",
       "       11.38267486, 11.62848013, 11.87428541, 12.12009069, 12.36589597,\n",
       "       12.61170124, 12.85750652, 13.1033118 , 13.34911708, 13.59492235],      dtype=float64)"
      ]
     },
     "execution_count": 434,
     "metadata": {},
     "output_type": "execute_result"
    }
   ],
   "source": [
    "plt.figure(figsize=(16,6),facecolor='white')\n",
    "\n",
    "# plt.subplot(1,2,1)\n",
    "# plt.pcolormesh(r_e, t_e, mean)\n",
    "# plt.colorbar()\n",
    "\n",
    "# plt.subplot(1,2,2)\n",
    "# plt.pcolormesh(xnew, ynew, znew)\n",
    "# plt.colorbar()"
   ]
  },
  {
   "cell_type": "code",
   "execution_count": null,
   "id": "af503fc3-13ed-479d-aa96-23f4811acfa1",
   "metadata": {},
   "outputs": [
    {
     "ename": "NameError",
     "evalue": "name 'clean_mean' is not defined",
     "output_type": "error",
     "traceback": [
      "\u001b[31m---------------------------------------------------------------------------\u001b[39m",
      "\u001b[31mNameError\u001b[39m                                 Traceback (most recent call last)",
      "\u001b[36mCell\u001b[39m\u001b[36m \u001b[39m\u001b[32mIn[16]\u001b[39m\u001b[32m, line 8\u001b[39m\n\u001b[32m      4\u001b[39m bin_inds = np.digitize(r_e.ravel(), r_bins)\n\u001b[32m      6\u001b[39m \u001b[38;5;66;03m# 3. Compute radial profile\u001b[39;00m\n\u001b[32m      7\u001b[39m radial_profile = np.array([\n\u001b[32m----> \u001b[39m\u001b[32m8\u001b[39m     \u001b[43mclean_mean\u001b[49m.ravel()[bin_inds == i].mean() \u001b[38;5;28;01mif\u001b[39;00m np.any(bin_inds == i) \u001b[38;5;28;01melse\u001b[39;00m \u001b[32m0.0\u001b[39m\n\u001b[32m      9\u001b[39m     \u001b[38;5;28;01mfor\u001b[39;00m i \u001b[38;5;129;01min\u001b[39;00m \u001b[38;5;28mrange\u001b[39m(\u001b[32m1\u001b[39m, \u001b[38;5;28mlen\u001b[39m(r_bins))\n\u001b[32m     10\u001b[39m ])\n\u001b[32m     13\u001b[39m \u001b[38;5;66;03m# Sort by radius\u001b[39;00m\n\u001b[32m     14\u001b[39m sort_idx = np.argsort(r_e.ravel())\n",
      "\u001b[31mNameError\u001b[39m: name 'clean_mean' is not defined"
     ]
    }
   ],
   "source": [
    "# def get_rz(dat, params, orders= [2,4], fourier_coeffs=None):\n",
    "params = {\n",
    "    'vcirc_delta': 0.0,\n",
    "    'vR0': 0.0,\n",
    "    'param_lnOmega0': -3.0,\n",
    "    'fourier_coeffs': {\n",
    "        2: (0.05,),\n",
    "        4: (0.05,)\n",
    "    }\n",
    "}\n",
    "dat = {'R': Rgal[wmask], 'vphi': vt[wmask], 'vR': vR[wmask], 'label': data['MG_FE'][wmask], 'vcirc_0': 229.0}\n",
    "\n",
    "def get_rz(dat, params, bins, rangos):\n",
    "    # get the elliptical coords\n",
    "    r_e, t_e = get_elliptical_coords(dat, params, bins= bins, rangos = rangos)\n",
    "    \n",
    "    distortion = np.zeros((len(params['fourier_coeffs'])))\n",
    "    # add fourier distortion\n",
    "    for m, e_m in params['fourier_coeffs'].items():\n",
    "        distortion += np.nansum(e_m * np.cos(m*t_e.ravel()))\n",
    "    \n",
    "    return r_e + r_e * np.nansum(distortion)\n",
    "\n",
    "\n"
   ]
  },
  {
   "cell_type": "code",
   "execution_count": null,
   "id": "55ab84fe-063b-4fca-bd27-28a32c2725f8",
   "metadata": {},
   "outputs": [],
   "source": []
  },
  {
   "cell_type": "code",
   "execution_count": 492,
   "id": "72967d36-e542-4aae-a58a-acb16a9c0e59",
   "metadata": {},
   "outputs": [
    {
     "data": {
      "text/plain": [
       "array([[nan, nan, nan, ..., nan, nan, nan],\n",
       "       [nan, nan, nan, ..., nan, nan, nan],\n",
       "       [nan, nan, nan, ..., nan, nan, nan],\n",
       "       ...,\n",
       "       [nan, nan, nan, ..., nan, nan, nan],\n",
       "       [nan, nan, nan, ..., nan, nan, nan],\n",
       "       [nan, nan, nan, ..., nan, nan, nan]], shape=(64, 64))"
      ]
     },
     "execution_count": 492,
     "metadata": {},
     "output_type": "execute_result"
    }
   ],
   "source": [
    "# residual = mean_label - model\n",
    "# plt.imshow(residual, cmap='coolwarm'); plt.colorbar()\n",
    "model\n",
    "# model.shape"
   ]
  },
  {
   "cell_type": "code",
   "execution_count": 489,
   "id": "4ca5f5e4-f8cd-4c7f-8346-13f9eb948788",
   "metadata": {},
   "outputs": [
    {
     "data": {
      "image/png": "[encoded data removed]",
      "text/plain": [
       "<Figure size 1000x400 with 4 Axes>"
      ]
     },
     "metadata": {},
     "output_type": "display_data"
    }
   ],
   "source": [
    "plt.figure(figsize=(10, 4))\n",
    "\n",
    "plt.subplot(1, 2, 1)\n",
    "plt.pcolormesh(X_, Y_, mean_label, cmap='plasma', vmin=-0.02, vmax=0.08)\n",
    "plt.title(\"Original Scattered Data\")\n",
    "plt.colorbar()\n",
    "\n",
    "plt.subplot(1, 2, 2)\n",
    "plt.pcolormesh(X_, Y_, model, cmap='plasma')\n",
    "plt.title(\"2D Spline Fit\")\n",
    "plt.colorbar()\n",
    "\n",
    "plt.tight_layout()\n",
    "plt.show()"
   ]
  },
  {
   "cell_type": "code",
   "execution_count": 88,
   "id": "34317aa9-3b16-41a6-b0a8-d7ff11bf97c9",
   "metadata": {},
   "outputs": [],
   "source": [
    "def get_elliptical_coords(data, params, bins, rangos):\n",
    "\n",
    "    mean_label, err, X, Y = bin_data(data, params, bins= bins, rangos = rangos)\n",
    "    dim = int(len(X)/2)\n",
    "\n",
    "    delta_x = (X[:,0][1] - X[:,0][0])/2\n",
    "    delta_y = (Y[:,1][0] - Y[:,0][0])/2\n",
    "    X_  = (X[dim:,0] + delta_x)*u.kpc\n",
    "    Y_  = (Y[0,dim:] + delta_y)*u.km/u.s\n",
    "    Y_ = Y_.to(u.kpc/u.Myr)\n",
    "    Y_ \n",
    "    pos = X_.value * jnp.sqrt(jnp.exp(params['param_lnOmega0']))\n",
    "    vel = Y_.value / jnp.sqrt(jnp.exp(params['param_lnOmega0']))\n",
    "\n",
    "    r_e = jnp.sqrt(pos**2 + vel**2)\n",
    "    t_e = jnp.arctan2(vel, pos)\n",
    "    \n",
    "    return r_e, t_e, mean_label, err, X, Y\n",
    "    "
   ]
  },
  {
   "cell_type": "code",
   "execution_count": 89,
   "id": "0c545d17-6785-491a-b925-dc6d0e217d70",
   "metadata": {},
   "outputs": [
    {
     "data": {
      "text/plain": [
       "((33,), (33,), (64, 64), (65, 65))"
      ]
     },
     "execution_count": 89,
     "metadata": {},
     "output_type": "execute_result"
    }
   ],
   "source": [
    "r_e, t_e, mean_label, err_label, X, Y = get_elliptical_coords(dat, params, bins= bins, rangos = rangos)\n",
    "r_e.shape, t_e.shape, mean_label.shape, X.shape"
   ]
  },
  {
   "cell_type": "code",
   "execution_count": 140,
   "id": "fddbc289-52be-4331-851a-7e45a9868b24",
   "metadata": {},
   "outputs": [],
   "source": [
    "from scipy.interpolate import UnivariateSpline\n",
    "x_grid = np.linspace(0,0.6,128)\n",
    "spline = UnivariateSpline(r_e, mean_label[31,31:].T, s=0.1)  # s controls smoothness; 0 means interpolation\n",
    "y_fit = spline(x_grid)"
   ]
  },
  {
   "cell_type": "code",
   "execution_count": 141,
   "id": "05d8ed0b-b40b-4a30-9a98-d2ad80085a1c",
   "metadata": {},
   "outputs": [
    {
     "data": {
      "text/plain": [
       "[<matplotlib.lines.Line2D at 0x53b852d50>]"
      ]
     },
     "execution_count": 141,
     "metadata": {},
     "output_type": "execute_result"
    },
    {
     "data": {
      "image/png": "[encoded data removed]",
      "text/plain": [
       "<Figure size 640x480 with 1 Axes>"
      ]
     },
     "metadata": {},
     "output_type": "display_data"
    }
   ],
   "source": [
    "plt.scatter(r_e, mean_label[31,31:].T, s=10) # plot the trend in abundance with r_e for vR=0\n",
    "plt.plot(x_grid, y_fit)"
   ]
  },
  {
   "cell_type": "code",
   "execution_count": null,
   "id": "a228723d-032c-4b07-beb9-ec1f38194c53",
   "metadata": {},
   "outputs": [],
   "source": []
  },
  {
   "cell_type": "code",
   "execution_count": null,
   "id": "8e70a50b-164d-4bfa-9b2b-daa142b4f57d",
   "metadata": {},
   "outputs": [],
   "source": []
  },
  {
   "cell_type": "code",
   "execution_count": null,
   "id": "3a8384e4-e957-4a6b-a11d-192fc3a68cbf",
   "metadata": {},
   "outputs": [],
   "source": []
  },
  {
   "cell_type": "code",
   "execution_count": 39,
   "id": "a6d9e6fd-18dd-41f5-8ee3-8356351a4360",
   "metadata": {},
   "outputs": [
    {
     "ename": "NameError",
     "evalue": "name 'get_r' is not defined",
     "output_type": "error",
     "traceback": [
      "\u001b[31m---------------------------------------------------------------------------\u001b[39m",
      "\u001b[31mNameError\u001b[39m                                 Traceback (most recent call last)",
      "\u001b[36mCell\u001b[39m\u001b[36m \u001b[39m\u001b[32mIn[39]\u001b[39m\u001b[32m, line 1\u001b[39m\n\u001b[32m----> \u001b[39m\u001b[32m1\u001b[39m r = \u001b[43mget_r\u001b[49m(r_e, t_e)\n\u001b[32m      2\u001b[39m r.shape, mean.shape\n",
      "\u001b[31mNameError\u001b[39m: name 'get_r' is not defined"
     ]
    }
   ],
   "source": [
    "r = get_r(r_e, t_e)\n",
    "r.shape, mean.shape"
   ]
  },
  {
   "cell_type": "code",
   "execution_count": 71,
   "id": "45373067-d47a-4fd5-8409-a8e76a378d07",
   "metadata": {},
   "outputs": [
    {
     "data": {
      "text/plain": [
       "Array([[            nan,             nan,             nan,\n",
       "                    nan,             nan,             nan,\n",
       "                    nan,             nan,             nan,\n",
       "                    nan,             nan,             nan,\n",
       "                    nan,             nan,             nan,\n",
       "                    nan,             nan,  5.39497236e-02,\n",
       "                    nan,  5.60516779e-02,  5.44004936e-02,\n",
       "         5.28549179e-02,             nan,  5.18165051e-02,\n",
       "                    nan,             nan,             nan,\n",
       "                    nan,             nan,             nan,\n",
       "         4.78275849e-02,             nan,  5.13954121e-02,\n",
       "                    nan,             nan,  4.89619481e-02,\n",
       "                    nan,  5.21964822e-02,  5.15806119e-02,\n",
       "                    nan,             nan,  4.97379226e-02,\n",
       "                    nan,             nan,  5.60679995e-02,\n",
       "                    nan,             nan,             nan,\n",
       "                    nan,             nan,             nan,\n",
       "                    nan,             nan,             nan,\n",
       "                    nan,             nan,             nan,\n",
       "                    nan,             nan,             nan,\n",
       "                    nan,             nan,             nan,\n",
       "                    nan],\n",
       "       [            nan,             nan,             nan,\n",
       "                    nan,             nan,             nan,\n",
       "                    nan,             nan,             nan,\n",
       "                    nan,             nan,             nan,\n",
       "                    nan,             nan,             nan,\n",
       "                    nan,             nan, -3.31558093e-03,\n",
       "                    nan,  5.25295061e-03, -1.80662919e-03,\n",
       "         5.77171444e-04,             nan, -4.13455721e-03,\n",
       "                    nan,             nan,             nan,\n",
       "                    nan,             nan,             nan,\n",
       "         9.41281491e-04,             nan, -1.77909507e-03,\n",
       "                    nan,             nan,  9.24417053e-04,\n",
       "                    nan, -1.27963327e-03,  5.03268590e-03,\n",
       "                    nan,             nan, -7.24815785e-03,\n",
       "                    nan,             nan,  1.63305750e-03,\n",
       "                    nan,             nan,             nan,\n",
       "                    nan,             nan,             nan,\n",
       "                    nan,             nan,             nan,\n",
       "                    nan,             nan,             nan,\n",
       "                    nan,             nan,             nan,\n",
       "                    nan,             nan,             nan,\n",
       "                    nan],\n",
       "       [            nan,             nan,             nan,\n",
       "                    nan,             nan,             nan,\n",
       "                    nan,             nan,             nan,\n",
       "                    nan,             nan,             nan,\n",
       "                    nan,             nan,             nan,\n",
       "                    nan,             nan,  2.84041903e-03,\n",
       "                    nan,  1.23610087e-03, -2.28474720e-03,\n",
       "        -3.34518762e-03,             nan,  1.96436958e-03,\n",
       "                    nan,             nan,             nan,\n",
       "                    nan,             nan,             nan,\n",
       "        -1.88735697e-04,             nan, -1.80105525e-03,\n",
       "                    nan,             nan,  2.90579587e-03,\n",
       "                    nan,  3.08931528e-04, -3.39546927e-03,\n",
       "                    nan,             nan, -9.28476292e-03,\n",
       "                    nan,             nan, -1.00163011e-03,\n",
       "                    nan,             nan,             nan,\n",
       "                    nan,             nan,             nan,\n",
       "                    nan,             nan,             nan,\n",
       "                    nan,             nan,             nan,\n",
       "                    nan,             nan,             nan,\n",
       "                    nan,             nan,             nan,\n",
       "                    nan],\n",
       "       [            nan,             nan,             nan,\n",
       "                    nan,             nan,             nan,\n",
       "                    nan,             nan,             nan,\n",
       "                    nan,             nan,             nan,\n",
       "                    nan,             nan,             nan,\n",
       "                    nan,             nan, -7.38043058e-04,\n",
       "                    nan,  1.16929848e-03, -4.02152793e-04,\n",
       "         1.28477448e-04,             nan, -9.20345880e-04,\n",
       "                    nan,             nan,             nan,\n",
       "                    nan,             nan,             nan,\n",
       "         2.09527768e-04,             nan, -3.96023742e-04,\n",
       "                    nan,             nan,  2.05773770e-04,\n",
       "                    nan, -2.84844337e-04,  1.12026790e-03,\n",
       "                    nan,             nan, -1.61342845e-03,\n",
       "                    nan,             nan,  3.63516010e-04,\n",
       "                    nan,             nan,             nan,\n",
       "                    nan,             nan,             nan,\n",
       "                    nan,             nan,             nan,\n",
       "                    nan,             nan,             nan,\n",
       "                    nan,             nan,             nan,\n",
       "                    nan,             nan,             nan,\n",
       "                    nan],\n",
       "       [            nan,             nan,             nan,\n",
       "                    nan,             nan,             nan,\n",
       "                    nan,             nan,             nan,\n",
       "                    nan,             nan,             nan,\n",
       "                    nan,             nan,             nan,\n",
       "                    nan,             nan,  6.32272774e-04,\n",
       "                    nan,  2.75154094e-04, -5.08581105e-04,\n",
       "        -7.44633460e-04,             nan,  4.37265555e-04,\n",
       "                    nan,             nan,             nan,\n",
       "                    nan,             nan,             nan,\n",
       "        -4.20122669e-05,             nan, -4.00912044e-04,\n",
       "                    nan,             nan,  6.46825554e-04,\n",
       "                    nan,  6.87676683e-05, -7.55826077e-04,\n",
       "                    nan,             nan, -2.06677351e-03,\n",
       "                    nan,             nan, -2.22961275e-04,\n",
       "                    nan,             nan,             nan,\n",
       "                    nan,             nan,             nan,\n",
       "                    nan,             nan,             nan,\n",
       "                    nan,             nan,             nan,\n",
       "                    nan,             nan,             nan,\n",
       "                    nan,             nan,             nan,\n",
       "                    nan]], dtype=float64)"
      ]
     },
     "execution_count": 71,
     "metadata": {},
     "output_type": "execute_result"
    }
   ],
   "source": [
    "# create a Fourier expansion\n",
    "\n",
    "# Build the design matrix\n",
    "def fourier_basis_2d(X, Y, orders=[2, 4]):\n",
    "    terms = [jnp.ones_like(X)]  # constant term\n",
    "    for m in orders:\n",
    "        for n in orders:\n",
    "            terms += [\n",
    "                jnp.cos(m*X) * jnp.cos(n*Y),\n",
    "                # jnp.cos(m*X) * jnp.sin(n*Y),\n",
    "                # jnp.sin(m*X) * jnp.cos(n*Y),\n",
    "                # jnp.sin(m*X) * jnp.sin(n*Y),\n",
    "            ]\n",
    "    return jnp.stack(terms, axis=-1)\n",
    "    \n",
    "p = fourier_basis_2d(X[0,:-1,], Y[0,:-1])\n",
    "p.shape, mean.shape\n",
    "w = jnp.linalg.lstsq(p, mean)[0]\n",
    "\n",
    "\n",
    "w\n",
    "\n",
    "# Solve the least squares problem: w = (XᵀX)⁻¹ Xᵀ y\n",
    "# w = jnp.linalg.lstsq(X, mean_label)[0]  # JAX 0.4.14+ supports lstsq like NumPy\n"
   ]
  },
  {
   "cell_type": "code",
   "execution_count": 456,
   "id": "e491f34e-032a-4df5-9b21-cb37b131821a",
   "metadata": {},
   "outputs": [],
   "source": [
    "def angular_fourier_basis(theta_e, modes=[2, 4]):\n",
    "    X = [jnp.ones_like(theta_e)]  # constant term\n",
    "    for m in modes:\n",
    "        X.append(jnp.cos(m*theta_e))\n",
    "    return jnp.column_stack(X)\n",
    "\n",
    "def get_r(r_e, theta_e, modes=[2, 4]):\n",
    "\n",
    "    X = angular_fourier_basis(theta_e, modes)\n",
    "    coeffs, *_ = jnp.linalg.lstsq(X, r_e, rcond=None)\n",
    "\n",
    "    modos = [0,2,4]\n",
    "    r = r_e *( 1. + jnp.nansum(jnp.array([c * jnp.cos(modos[m]*theta_e) for m, c in enumerate(coeffs)]), axis=0))\n",
    "    \n",
    "    return r"
   ]
  },
  {
   "cell_type": "code",
   "execution_count": 415,
   "id": "416e6b72-5a2f-4f28-b0df-d422449bf61d",
   "metadata": {},
   "outputs": [],
   "source": [
    "def label_likelihood(data, params, bins, rangos):\n",
    "\n",
    "    mean_label, mean_label_err, X, Y = bin_data(Rgal[wmask], vt[wmask], vR[wmask], 229., data['MG_FE'][wmask], data['MG_FE_ERR'][wmask], bins= bins, rangos = rangos)\n",
    "    dim = int(len(X)/2)  \n",
    "    \n",
    "    r_e, theta_e = get_elliptical_coords(data['R'], data['vphi'], data['vR'], params['vcirc'], params['vR0'],\\\n",
    "                                         params['lnOmega0'], data['label'], data['label_err'], bins, rangos)\n",
    "\n",
    "    r = get_r(r_e, t_e, modes=[2, 4])\n",
    "    label_spline = UnivariateSpline(r, mean_label[dim][dim:], s=50)\n",
    "    label_model = label_spline(r)\n",
    "\n",
    "    return jnp.log((mean_label - label_model)**2/mean_label_err**2)\n",
    "\n",
    "def objective_label(data, params, bins, rangos):\n",
    "    return - label_likelihood(data, params, bins, rangos)\n",
    "\n",
    "def optimise(params, data):\n",
    "    \n",
    "    optimizer = jaxopt.LBFGS(fun=objective_label, tol=1e-6, maxiter=3000, max_stepsize=1e3) # magic numbers\n",
    "\n",
    "    res = optimizer.run(init_params = params, data = data)\n",
    "\n",
    "    return res"
   ]
  },
  {
   "cell_type": "code",
   "execution_count": 416,
   "id": "04b0648a-4f34-4e52-8aa3-dd38be7cc211",
   "metadata": {},
   "outputs": [
    {
     "ename": "TypeError",
     "evalue": "Dtype >f4 is not a valid JAX array type. Only arrays of numeric types are supported by JAX.",
     "output_type": "error",
     "traceback": [
      "\u001b[31m---------------------------------------------------------------------------\u001b[39m",
      "\u001b[31mTypeError\u001b[39m                                 Traceback (most recent call last)",
      "\u001b[36mCell\u001b[39m\u001b[36m \u001b[39m\u001b[32mIn[416]\u001b[39m\u001b[32m, line 1\u001b[39m\n\u001b[32m----> \u001b[39m\u001b[32m1\u001b[39m res = \u001b[43moptimise\u001b[49m\u001b[43m(\u001b[49m\u001b[43mparams\u001b[49m\u001b[43m,\u001b[49m\u001b[43m \u001b[49m\u001b[43mdata_\u001b[49m\u001b[43m)\u001b[49m\n",
      "\u001b[36mCell\u001b[39m\u001b[36m \u001b[39m\u001b[32mIn[415]\u001b[39m\u001b[32m, line 22\u001b[39m, in \u001b[36moptimise\u001b[39m\u001b[34m(params, data)\u001b[39m\n\u001b[32m     18\u001b[39m \u001b[38;5;28;01mdef\u001b[39;00m\u001b[38;5;250m \u001b[39m\u001b[34moptimise\u001b[39m(params, data):\n\u001b[32m     20\u001b[39m     optimizer = jaxopt.LBFGS(fun=objective_label, tol=\u001b[32m1e-6\u001b[39m, maxiter=\u001b[32m3000\u001b[39m, max_stepsize=\u001b[32m1e3\u001b[39m) \u001b[38;5;66;03m# magic numbers\u001b[39;00m\n\u001b[32m---> \u001b[39m\u001b[32m22\u001b[39m     res = \u001b[43moptimizer\u001b[49m\u001b[43m.\u001b[49m\u001b[43mrun\u001b[49m\u001b[43m(\u001b[49m\u001b[43minit_params\u001b[49m\u001b[43m \u001b[49m\u001b[43m=\u001b[49m\u001b[43m \u001b[49m\u001b[43mparams\u001b[49m\u001b[43m,\u001b[49m\u001b[43m \u001b[49m\u001b[43mdata\u001b[49m\u001b[43m \u001b[49m\u001b[43m=\u001b[49m\u001b[43m \u001b[49m\u001b[43mdata\u001b[49m\u001b[43m)\u001b[49m\n\u001b[32m     24\u001b[39m     \u001b[38;5;28;01mreturn\u001b[39;00m res\n",
      "\u001b[36mFile \u001b[39m\u001b[32m/opt/homebrew/Cellar/jupyterlab/4.3.5_1/libexec/lib/python3.13/site-packages/jaxopt/_src/base.py:359\u001b[39m, in \u001b[36mIterativeSolver.run\u001b[39m\u001b[34m(self, init_params, *args, **kwargs)\u001b[39m\n\u001b[32m    352\u001b[39m   decorator = idf.custom_root(\n\u001b[32m    353\u001b[39m       \u001b[38;5;28mself\u001b[39m.optimality_fun,\n\u001b[32m    354\u001b[39m       has_aux=\u001b[38;5;28;01mTrue\u001b[39;00m,\n\u001b[32m    355\u001b[39m       solve=\u001b[38;5;28mself\u001b[39m.implicit_diff_solve,\n\u001b[32m    356\u001b[39m       reference_signature=reference_signature)\n\u001b[32m    357\u001b[39m   run = decorator(run)\n\u001b[32m--> \u001b[39m\u001b[32m359\u001b[39m \u001b[38;5;28;01mreturn\u001b[39;00m \u001b[43mrun\u001b[49m\u001b[43m(\u001b[49m\u001b[43minit_params\u001b[49m\u001b[43m,\u001b[49m\u001b[43m \u001b[49m\u001b[43m*\u001b[49m\u001b[43margs\u001b[49m\u001b[43m,\u001b[49m\u001b[43m \u001b[49m\u001b[43m*\u001b[49m\u001b[43m*\u001b[49m\u001b[43mkwargs\u001b[49m\u001b[43m)\u001b[49m\n",
      "\u001b[36mFile \u001b[39m\u001b[32m/opt/homebrew/Cellar/jupyterlab/4.3.5_1/libexec/lib/python3.13/site-packages/jaxopt/_src/implicit_diff.py:251\u001b[39m, in \u001b[36m_custom_root.<locals>.wrapped_solver_fun\u001b[39m\u001b[34m(*args, **kwargs)\u001b[39m\n\u001b[32m    249\u001b[39m args, kwargs = _signature_bind(solver_fun_signature, *args, **kwargs)\n\u001b[32m    250\u001b[39m keys, vals = \u001b[38;5;28mlist\u001b[39m(kwargs.keys()), \u001b[38;5;28mlist\u001b[39m(kwargs.values())\n\u001b[32m--> \u001b[39m\u001b[32m251\u001b[39m \u001b[38;5;28;01mreturn\u001b[39;00m \u001b[43mmake_custom_vjp_solver_fun\u001b[49m\u001b[43m(\u001b[49m\u001b[43msolver_fun\u001b[49m\u001b[43m,\u001b[49m\u001b[43m \u001b[49m\u001b[43mkeys\u001b[49m\u001b[43m)\u001b[49m\u001b[43m(\u001b[49m\u001b[43m*\u001b[49m\u001b[43margs\u001b[49m\u001b[43m,\u001b[49m\u001b[43m \u001b[49m\u001b[43m*\u001b[49m\u001b[43mvals\u001b[49m\u001b[43m)\u001b[49m\n",
      "    \u001b[31m[... skipping hidden 4 frame]\u001b[39m\n",
      "\u001b[36mFile \u001b[39m\u001b[32m/opt/homebrew/Cellar/jupyterlab/4.3.5_1/libexec/lib/python3.13/site-packages/jax/_src/dtypes.py:811\u001b[39m, in \u001b[36mcheck_valid_dtype\u001b[39m\u001b[34m(dtype)\u001b[39m\n\u001b[32m    809\u001b[39m \u001b[38;5;28;01mdef\u001b[39;00m\u001b[38;5;250m \u001b[39m\u001b[34mcheck_valid_dtype\u001b[39m(dtype: DType) -> \u001b[38;5;28;01mNone\u001b[39;00m:\n\u001b[32m    810\u001b[39m   \u001b[38;5;28;01mif\u001b[39;00m dtype \u001b[38;5;129;01mnot\u001b[39;00m \u001b[38;5;129;01min\u001b[39;00m _jax_dtype_set:\n\u001b[32m--> \u001b[39m\u001b[32m811\u001b[39m     \u001b[38;5;28;01mraise\u001b[39;00m \u001b[38;5;167;01mTypeError\u001b[39;00m(\u001b[33mf\u001b[39m\u001b[33m\"\u001b[39m\u001b[33mDtype \u001b[39m\u001b[38;5;132;01m{\u001b[39;00mdtype\u001b[38;5;132;01m}\u001b[39;00m\u001b[33m is not a valid JAX array \u001b[39m\u001b[33m\"\u001b[39m\n\u001b[32m    812\u001b[39m                     \u001b[33m\"\u001b[39m\u001b[33mtype. Only arrays of numeric types are supported by JAX.\u001b[39m\u001b[33m\"\u001b[39m)\n",
      "\u001b[31mTypeError\u001b[39m: Dtype >f4 is not a valid JAX array type. Only arrays of numeric types are supported by JAX."
     ]
    }
   ],
   "source": [
    "res = optimise(params, data_)"
   ]
  },
  {
   "cell_type": "code",
   "execution_count": 92,
   "id": "cf437c38-ba77-437a-851c-b0632fc49913",
   "metadata": {},
   "outputs": [
    {
     "ename": "ValueError",
     "evalue": "Non-hashable static arguments are not supported. An error occurred while trying to hash an object of type <class 'numpy.ndarray'>, [9.32188337 9.83149294 8.93331141 ... 5.93167839 5.0913289  5.91544049]. The error was:\nTypeError: unhashable type: 'numpy.ndarray'\n",
     "output_type": "error",
     "traceback": [
      "\u001b[31m---------------------------------------------------------------------------\u001b[39m",
      "\u001b[31mValueError\u001b[39m                                Traceback (most recent call last)",
      "\u001b[36mCell\u001b[39m\u001b[36m \u001b[39m\u001b[32mIn[92]\u001b[39m\u001b[32m, line 1\u001b[39m\n\u001b[32m----> \u001b[39m\u001b[32m1\u001b[39m r_e, t_e = \u001b[43mTorusImaging1D_radial\u001b[49m\u001b[43m.\u001b[49m\u001b[43m_get_elliptical_coords\u001b[49m\u001b[43m(\u001b[49m\u001b[43mRgal\u001b[49m\u001b[43m[\u001b[49m\u001b[43mwmask\u001b[49m\u001b[43m]\u001b[49m\u001b[43m,\u001b[49m\u001b[43m \u001b[49m\u001b[43mvt\u001b[49m\u001b[43m[\u001b[49m\u001b[43mwmask\u001b[49m\u001b[43m]\u001b[49m\u001b[43m,\u001b[49m\u001b[43m \u001b[49m\u001b[43mvR\u001b[49m\u001b[43m[\u001b[49m\u001b[43mwmask\u001b[49m\u001b[43m]\u001b[49m\u001b[43m,\u001b[49m\u001b[43m \u001b[49m\u001b[32;43m229.\u001b[39;49m\u001b[43m,\u001b[49m\u001b[43m \u001b[49m\u001b[32;43m0.0\u001b[39;49m\u001b[43m,\u001b[49m\u001b[32;43m0.0\u001b[39;49m\u001b[43m,\u001b[49m\u001b[43m-\u001b[49m\u001b[32;43m3.\u001b[39;49m\u001b[43m)\u001b[49m\n\u001b[32m      2\u001b[39m r = TorusImaging1D_radial._get_r(r_e, t_e, )\n\u001b[32m      3\u001b[39m e_params = {\u001b[32m2\u001b[39m: {\u001b[33m'\u001b[39m\u001b[33mvals\u001b[39m\u001b[33m'\u001b[39m: jnp.array([-\u001b[32m16.\u001b[39m, -\u001b[32m16.\u001b[39m, -\u001b[32m16.\u001b[39m, -\u001b[32m16.\u001b[39m, -\u001b[32m16.\u001b[39m, -\u001b[32m16.\u001b[39m, -\u001b[32m16.\u001b[39m])},\\\n\u001b[32m      4\u001b[39m   \u001b[32m4\u001b[39m: {\u001b[33m'\u001b[39m\u001b[33mvals\u001b[39m\u001b[33m'\u001b[39m: jnp.array([-\u001b[32m16.\u001b[39m, -\u001b[32m16.\u001b[39m, -\u001b[32m16.\u001b[39m])}}\n",
      "\u001b[31mValueError\u001b[39m: Non-hashable static arguments are not supported. An error occurred while trying to hash an object of type <class 'numpy.ndarray'>, [9.32188337 9.83149294 8.93331141 ... 5.93167839 5.0913289  5.91544049]. The error was:\nTypeError: unhashable type: 'numpy.ndarray'\n"
     ]
    }
   ],
   "source": [
    "r_e, t_e = TorusImaging1D_radial._get_elliptical_coords(Rgal[wmask], vt[wmask], vR[wmask], 229., 0.0,0.0,-3.)\n",
    "r = TorusImaging1D_radial._get_r(r_e, t_e, )\n",
    "e_params = {2: {'vals': jnp.array([-16., -16., -16., -16., -16., -16., -16.])},\\\n",
    "  4: {'vals': jnp.array([-16., -16., -16.])}}\n",
    "e_params"
   ]
  },
  {
   "cell_type": "code",
   "execution_count": 85,
   "id": "348782f6-d785-4950-a2ad-27284db47a15",
   "metadata": {},
   "outputs": [],
   "source": [
    "init_params = {'vcirc0': 0.0,\n",
    " 'vel0': 0.0,\n",
    " 'ln_Omega0': np.float64(-3.196417741080569),\n",
    " 'e_params': {2: {'vals': jnp.array([-16., -16., -16., -16., -16., -16., -16.])},\n",
    "  4: {'vals': jnp.array([-16., -16., -16.])}},\n",
    " 'label_params': {'label_vals': jnp.array([0.0322193 , 0.11803584, 0.11803584, 0.11803584, 0.11803584,\n",
    "         0.11803584, 0.11803584, 0.11803584])}}"
   ]
  },
  {
   "cell_type": "code",
   "execution_count": null,
   "id": "ad555f56-8760-429a-9131-1af7235926c0",
   "metadata": {},
   "outputs": [],
   "source": []
  },
  {
   "cell_type": "code",
   "execution_count": 88,
   "id": "4407ffa7-d459-4138-bb47-9ca1a3a103b1",
   "metadata": {},
   "outputs": [],
   "source": [
    "model = TorusImaging1D_radial"
   ]
  },
  {
   "cell_type": "code",
   "execution_count": 90,
   "id": "d15054eb-b91e-4bd5-9db1-cc7f296f1690",
   "metadata": {},
   "outputs": [
    {
     "ename": "AttributeError",
     "evalue": "'jaxlib.xla_extension.ArrayImpl' object has no attribute '_get_es'",
     "output_type": "error",
     "traceback": [
      "\u001b[31m---------------------------------------------------------------------------\u001b[39m",
      "\u001b[31mAttributeError\u001b[39m                            Traceback (most recent call last)",
      "\u001b[36mCell\u001b[39m\u001b[36m \u001b[39m\u001b[32mIn[90]\u001b[39m\u001b[32m, line 1\u001b[39m\n\u001b[32m----> \u001b[39m\u001b[32m1\u001b[39m r = \u001b[43mmodel\u001b[49m\u001b[43m.\u001b[49m\u001b[43m_get_r\u001b[49m\u001b[43m(\u001b[49m\u001b[43mr_e\u001b[49m\u001b[43m,\u001b[49m\u001b[43m \u001b[49m\u001b[43mt_e\u001b[49m\u001b[43m,\u001b[49m\u001b[43m \u001b[49m\u001b[43minit_params\u001b[49m\u001b[43m[\u001b[49m\u001b[33;43m'\u001b[39;49m\u001b[33;43me_params\u001b[39;49m\u001b[33;43m'\u001b[39;49m\u001b[43m]\u001b[49m\u001b[43m,\u001b[49m\u001b[43m \u001b[49m\u001b[43minit_params\u001b[49m\u001b[43m[\u001b[49m\u001b[33;43m'\u001b[39;49m\u001b[33;43me_params\u001b[39;49m\u001b[33;43m'\u001b[39;49m\u001b[43m]\u001b[49m\u001b[43m)\u001b[49m\n",
      "\u001b[36mCell\u001b[39m\u001b[36m \u001b[39m\u001b[32mIn[79]\u001b[39m\u001b[32m, line 61\u001b[39m, in \u001b[36mTorusImaging1D_radial._get_r\u001b[39m\u001b[34m(self, r_e, theta_e, e_params)\u001b[39m\n\u001b[32m     54\u001b[39m \u001b[38;5;28;01mdef\u001b[39;00m\u001b[38;5;250m \u001b[39m\u001b[34m_get_r\u001b[39m(\n\u001b[32m     55\u001b[39m     \u001b[38;5;28mself\u001b[39m,\n\u001b[32m     56\u001b[39m     r_e: \u001b[38;5;28mfloat\u001b[39m,\n\u001b[32m     57\u001b[39m     theta_e: \u001b[38;5;28mfloat\u001b[39m,\n\u001b[32m     58\u001b[39m     e_params: EParams,\n\u001b[32m     59\u001b[39m ) -> jax.Array:\n\u001b[32m     60\u001b[39m \u001b[38;5;250m    \u001b[39m\u001b[33;03m\"\"\"Compute the distorted radius :math:`r`\"\"\"\u001b[39;00m\n\u001b[32m---> \u001b[39m\u001b[32m61\u001b[39m     es = \u001b[38;5;28;43mself\u001b[39;49m\u001b[43m.\u001b[49m\u001b[43m_get_es\u001b[49m(r_e, e_params)\n\u001b[32m     62\u001b[39m     \u001b[38;5;28;01mreturn\u001b[39;00m r_e * (\n\u001b[32m     63\u001b[39m         \u001b[32m1\u001b[39m\n\u001b[32m     64\u001b[39m         + jnp.sum(\n\u001b[32m     65\u001b[39m             jnp.array([e * jnp.cos(m * theta_e) \u001b[38;5;28;01mfor\u001b[39;00m m, e \u001b[38;5;129;01min\u001b[39;00m es.items()]), axis=\u001b[32m0\u001b[39m\n\u001b[32m     66\u001b[39m         )\n\u001b[32m     67\u001b[39m     )\n",
      "\u001b[31mAttributeError\u001b[39m: 'jaxlib.xla_extension.ArrayImpl' object has no attribute '_get_es'"
     ]
    }
   ],
   "source": [
    "r = model._get_r(r_e, t_e, init_params['e_params'], init_params['e_params'])"
   ]
  },
  {
   "cell_type": "code",
   "execution_count": null,
   "id": "dc05e97f-27a3-491c-b057-80df087dbc0e",
   "metadata": {},
   "outputs": [],
   "source": []
  }
 ],
 "metadata": {
  "kernelspec": {
   "display_name": "Python 3",
   "language": "python",
   "name": "python3"
  },
  "language_info": {
   "codemirror_mode": {
    "name": "ipython",
    "version": 3
   },
   "file_extension": ".py",
   "mimetype": "text/x-python",
   "name": "python",
   "nbconvert_exporter": "python",
   "pygments_lexer": "ipython3",
   "version": "3.13.2"
  }
 },
 "nbformat": 4,
 "nbformat_minor": 5
}
