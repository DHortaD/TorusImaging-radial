{
 "cells": [
  {
   "cell_type": "code",
   "execution_count": 46,
   "id": "0572a6ba-268d-4137-9424-b7d0ff6eb925",
   "metadata": {},
   "outputs": [],
   "source": [
    "from matplotlib import rc\n",
    "rc('font',**{'family':'serif','serif':['Times']})\n",
    "rc('text', usetex=True)\n",
    "import warnings\n",
    "warnings.filterwarnings('ignore')\n",
    "\n",
    "import pathlib\n",
    "import astropy.coordinates as coord\n",
    "import astropy.table as at\n",
    "import astropy.units as u\n",
    "import gala.dynamics as gd\n",
    "import gala.potential as gp\n",
    "import jax\n",
    "import matplotlib as mpl\n",
    "import matplotlib.pyplot as plt\n",
    "import numpy as np\n",
    "import torusimaging as oti\n",
    "from astropy.constants import G\n",
    "from gala.units import galactic\n",
    "from pyia import GaiaData\n",
    "from astropy.io import fits \n",
    "import tqdm\n",
    "import cmasher as cm\n",
    "import os\n",
    "import model_radial_old as model_radial\n",
    "import astropy.units as u\n",
    "from scipy import stats\n",
    "jax.config.update(\"jax_enable_x64\", True)"
   ]
  },
  {
   "cell_type": "code",
   "execution_count": 47,
   "id": "7f10d715-619c-4930-bf31-d9d3b0fd0b86",
   "metadata": {},
   "outputs": [
    {
     "name": "stdout",
     "output_type": "stream",
     "text": [
      "10000000\n"
     ]
    }
   ],
   "source": [
    "# LOAD THE DATA\n",
    "path = '/Users/dhortad/Projects/TorusImaging-radial/data/qiso_df_sim_Rz.fits'\n",
    "tb = fits.open(path)\n",
    "data = tb[1].data \n",
    "\n",
    "print(len(data))"
   ]
  },
  {
   "cell_type": "code",
   "execution_count": 48,
   "id": "7ad1a246-9669-47ee-9b5a-690b303afc0d",
   "metadata": {},
   "outputs": [],
   "source": [
    "# Eilers rotation curve\n",
    "Rgal = data['R']*u.kpc\n",
    "Rg = data['Rg']*u.kpc\n",
    "lz = data['J'][:,1]*u.kpc**2/u.Myr\n",
    "lz = lz.to((u.kpc*u.km)/u.s)\n",
    "vcirc = 229. *u.km/u.s\n",
    "deltaR = Rgal-Rg\n",
    "\n",
    "#transform to cylindrical velocities\n",
    "vR = data['v_R']*u.kpc/u.Myr"
   ]
  },
  {
   "cell_type": "code",
   "execution_count": 49,
   "id": "704184c1-4d76-4433-8ac3-c9921b9ca0dc",
   "metadata": {},
   "outputs": [],
   "source": [
    "jr = data['J'][:,0]*u.kpc**2/u.Myr\n",
    "jr = jr.to(u.km/u.s * u.kpc)"
   ]
  },
  {
   "cell_type": "code",
   "execution_count": 50,
   "id": "c539db95-3c73-4d5d-9280-88e956e8fa20",
   "metadata": {},
   "outputs": [],
   "source": [
    "# use APW's function to paint on abundances given correlation with Jr\n",
    "def make_mgfe(JR, slope=0.1 / 10, std=0.05, rng=None):\n",
    "    \"\"\"\n",
    "    Default parameters from APOGEE in fiducial model\n",
    "    \"\"\"\n",
    "    if rng is None:\n",
    "        rng = np.random.default_rng()\n",
    "\n",
    "    x = np.sqrt(JR)\n",
    "    mgfe = slope * x + 0.0\n",
    "    mgfe = rng.normal(mgfe, std)\n",
    "    mgfe_err = np.exp(rng.normal(-4.0, 0.5, size=len(JR)))\n",
    "    mgfe = rng.normal(mgfe, mgfe_err)\n",
    "    return mgfe, mgfe_err\n",
    "\n",
    "lab, lab_err = make_mgfe(jr)"
   ]
  },
  {
   "cell_type": "code",
   "execution_count": 51,
   "id": "c6dae67b-be76-42b5-b146-4db468b493af",
   "metadata": {},
   "outputs": [],
   "source": [
    "from astropy.stats import bootstrap\n",
    "# we will bootstrap 10 times for now to speed things up\n",
    "def create_boot_samp(deltaR, vR,xfe,xfe_err,bins,n=10):\n",
    "    deltaR_boot = []\n",
    "    vRs_boot = []\n",
    "    xfe_boot = []\n",
    "    xfe_err_boot = []\n",
    "    \n",
    "    #loop over bins\n",
    "    for indx, i in enumerate(bins):\n",
    "        # create the bootstrap samples  \n",
    "        # in order to sample the distribution using bootstrap with resampling and to get the correct\n",
    "        # information for every star picked, we need to sample an id array, and use that to pick out the sampled stars\n",
    "        # otherwise you get incorrect fehs for every abundance\n",
    "        # random_ids = np.arange(len(deltaR[i]))\n",
    "        random_ids = np.random.choice(len(deltaR[i]), size=50000)\n",
    "        samples_indices = bootstrap(random_ids, n).astype(int)\n",
    "        # within a bin, loop over all the \n",
    "        deltaR_bo = []\n",
    "        vRs_bo = []\n",
    "        xfe_bo = []\n",
    "        xfe_err_bo = []\n",
    "        for jndx, j in enumerate(samples_indices):\n",
    "            # find the stars with the correct id\n",
    "            deltaR_b = deltaR[i][j]\n",
    "            deltaR_bo.append(deltaR_b)\n",
    "            vRs_b = vR[i][j]\n",
    "            vRs_bo.append(vRs_b)\n",
    "            xfe_b = xfe[i][j]\n",
    "            xfe_bo.append(xfe_b)\n",
    "            xfe_err_b = xfe_err[i][j]\n",
    "            xfe_err_bo.append(xfe_err_b)\n",
    "            \n",
    "        deltaR_boot.append(deltaR_bo)\n",
    "        vRs_boot.append(vRs_bo)\n",
    "        xfe_boot.append(xfe_bo)\n",
    "        xfe_err_boot.append(xfe_err_bo)\n",
    "            \n",
    "    return deltaR_boot, vRs_boot, xfe_boot,xfe_err_boot"
   ]
  },
  {
   "cell_type": "code",
   "execution_count": 52,
   "id": "bbf004af-ea08-41d0-acc1-4bbb1165a35e",
   "metadata": {},
   "outputs": [],
   "source": [
    "Rg_w = 1.\n",
    "Rgal_cs = np.linspace(5,12,15)\n",
    "\n",
    "bins = []\n",
    "for Rg_c in Rgal_cs:\n",
    "    Rg_l, Rg_r = (Rg_c, Rg_c + Rg_w)\n",
    "    Rg_mask = (Rg.value > Rg_l) & (Rg.value <= Rg_r) & (np.abs(data['z'])<0.2) & (data['v_z']<0.03) &(jr.value<200) \n",
    "    bins.append(Rg_mask)"
   ]
  },
  {
   "cell_type": "code",
   "execution_count": 44,
   "id": "c1bf748c-42fd-4658-af7b-c569662280b2",
   "metadata": {},
   "outputs": [],
   "source": [
    "deltaR_boot, vRs_boot, xfe_boot, xfe_err_boot = create_boot_samp(deltaR.value, vR.value,lab,lab_err,bins,n=10)\n"
   ]
  },
  {
   "cell_type": "code",
   "execution_count": 45,
   "id": "79d3b5f0-1986-425a-bdfc-0f3450f4564f",
   "metadata": {},
   "outputs": [],
   "source": [
    "np.save('../sav/deltaR_boot', deltaR_boot)\n",
    "np.save('../sav/vRs_boot', vRs_boot)\n",
    "np.save('../sav/xfe_boot', xfe_boot)\n",
    "np.save('../sav/xfe_err_boot', xfe_err_boot)"
   ]
  },
  {
   "cell_type": "markdown",
   "id": "bb3fed26-7ac9-456d-be1e-93500c55208b",
   "metadata": {},
   "source": [
    "# now assume wrong rotation curve"
   ]
  },
  {
   "cell_type": "code",
   "execution_count": 53,
   "id": "97600768-8983-4de7-a455-a4b2ec0a5d50",
   "metadata": {},
   "outputs": [],
   "source": [
    "# Eilers rotation curve\n",
    "Rgal = data['R']*u.kpc\n",
    "lz = data['J'][:,1]*u.kpc**2/u.Myr\n",
    "lz = lz.to((u.kpc*u.km)/u.s)\n",
    "vcirc_w = 210. *u.km/u.s\n",
    "Rg_w = lz/vcirc_w\n",
    "deltaR_w = Rgal-Rg_w\n",
    "\n",
    "#transform to cylindrical velocities\n",
    "vR = data['v_R']*u.kpc/u.Myr"
   ]
  },
  {
   "cell_type": "code",
   "execution_count": 54,
   "id": "c9bcc49a-ad18-4a10-9c80-a01539b14877",
   "metadata": {},
   "outputs": [],
   "source": [
    "deltaR_boot_w, vRs_boot_w, xfe_boot_w, xfe_err_boot_w = create_boot_samp(deltaR_w.value, vR.value,lab,lab_err,bins,n=10)\n"
   ]
  },
  {
   "cell_type": "code",
   "execution_count": 55,
   "id": "bdc8d9bc-0b9c-4ab6-965b-4a1c9464e436",
   "metadata": {},
   "outputs": [],
   "source": [
    "np.save('../sav/deltaR_boot_w', deltaR_boot_w)\n",
    "np.save('../sav/vRs_boot_w', vRs_boot_w)\n",
    "np.save('../sav/xfe_boot_w', xfe_boot_w)\n",
    "np.save('../sav/xfe_err_boot_w', xfe_err_boot_w)"
   ]
  },
  {
   "cell_type": "code",
   "execution_count": null,
   "id": "02fe052e-e8dc-429b-9450-3fc1877a5ff9",
   "metadata": {},
   "outputs": [],
   "source": []
  }
 ],
 "metadata": {
  "kernelspec": {
   "display_name": "Python 3 (ipykernel)",
   "language": "python",
   "name": "python3"
  },
  "language_info": {
   "codemirror_mode": {
    "name": "ipython",
    "version": 3
   },
   "file_extension": ".py",
   "mimetype": "text/x-python",
   "name": "python",
   "nbconvert_exporter": "python",
   "pygments_lexer": "ipython3",
   "version": "3.13.3"
  }
 },
 "nbformat": 4,
 "nbformat_minor": 5
}
